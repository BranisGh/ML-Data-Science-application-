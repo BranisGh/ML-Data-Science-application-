{
  "cells": [
    {
      "cell_type": "code",
      "execution_count": 1,
      "metadata": {
        "colab": {
          "base_uri": "https://localhost:8080/",
          "height": 17
        },
        "id": "EOS91mievJyr",
        "outputId": "ea146814-de14-4270-d37c-b6fbe54471bc"
      },
      "outputs": [
        {
          "data": {
            "application/javascript": "IPython.OutputArea.auto_scroll_threshold = 9999\n",
            "text/plain": [
              "<IPython.core.display.Javascript object>"
            ]
          },
          "metadata": {},
          "output_type": "display_data"
        }
      ],
      "source": []
    },
    {
      "cell_type": "markdown",
      "metadata": {},
      "source": [
        "# Data Pre-processing"
      ]
    },
    {
      "cell_type": "markdown",
      "metadata": {},
      "source": [
        "Dans cette partie nous allons continuer notre analyse du Dataset, en faisant un pres-traitement simple et rapid des données. Cette etape est indispensable car elle nous permet d'établir une stratégie de prétraitement des données – autrement appelé Data Preprocessing – à partir de nos données brutes pour arriver à des données exploitables et qui nous donneront un modèle plus performant. "
      ]
    },
    {
      "cell_type": "code",
      "execution_count": 60,
      "metadata": {},
      "outputs": [
        {
          "data": {
            "application/javascript": "IPython.OutputArea.auto_scroll_threshold = 9999\n",
            "text/plain": [
              "<IPython.core.display.Javascript object>"
            ]
          },
          "metadata": {},
          "output_type": "display_data"
        }
      ],
      "source": [
        "%%javascript\n",
        "IPython.OutputArea.auto_scroll_threshold = 9999"
      ]
    },
    {
      "cell_type": "code",
      "execution_count": 62,
      "metadata": {
        "colab": {
          "base_uri": "https://localhost:8080/",
          "height": 51
        },
        "id": "Vfl6Jxw6vJyu",
        "outputId": "f0e00250-5cd1-41c6-f30e-bb47335454d7"
      },
      "outputs": [],
      "source": [
        "# Importer des outils dont nous avons besoin \n",
        "import numpy as np\n",
        "import pandas as pd\n",
        "import matplotlib.pyplot as plt\n",
        "import seaborn as sns\n",
        "import os"
      ]
    },
    {
      "cell_type": "code",
      "execution_count": 63,
      "metadata": {
        "colab": {
          "base_uri": "https://localhost:8080/",
          "height": 386
        },
        "id": "7ReZHhe0vJyw",
        "outputId": "96e49d8e-cedb-43de-9bae-678f6fc6f24c"
      },
      "outputs": [
        {
          "data": {
            "text/html": [
              "<div>\n",
              "<style scoped>\n",
              "    .dataframe tbody tr th:only-of-type {\n",
              "        vertical-align: middle;\n",
              "    }\n",
              "\n",
              "    .dataframe tbody tr th {\n",
              "        vertical-align: top;\n",
              "    }\n",
              "\n",
              "    .dataframe thead th {\n",
              "        text-align: right;\n",
              "    }\n",
              "</style>\n",
              "<table border=\"1\" class=\"dataframe\">\n",
              "  <thead>\n",
              "    <tr style=\"text-align: right;\">\n",
              "      <th></th>\n",
              "      <th>Unnamed: 0</th>\n",
              "      <th>index</th>\n",
              "      <th>date</th>\n",
              "      <th>cheveux</th>\n",
              "      <th>age</th>\n",
              "      <th>exp</th>\n",
              "      <th>salaire</th>\n",
              "      <th>sexe</th>\n",
              "      <th>diplome</th>\n",
              "      <th>specialite</th>\n",
              "      <th>note</th>\n",
              "      <th>dispo</th>\n",
              "      <th>embauche</th>\n",
              "    </tr>\n",
              "  </thead>\n",
              "  <tbody>\n",
              "    <tr>\n",
              "      <th>0</th>\n",
              "      <td>0</td>\n",
              "      <td>0</td>\n",
              "      <td>2012-06-02</td>\n",
              "      <td>roux</td>\n",
              "      <td>25.0</td>\n",
              "      <td>9.0</td>\n",
              "      <td>26803.0</td>\n",
              "      <td>F</td>\n",
              "      <td>licence</td>\n",
              "      <td>geologie</td>\n",
              "      <td>97.08</td>\n",
              "      <td>non</td>\n",
              "      <td>0</td>\n",
              "    </tr>\n",
              "    <tr>\n",
              "      <th>1</th>\n",
              "      <td>1</td>\n",
              "      <td>1</td>\n",
              "      <td>2011-04-21</td>\n",
              "      <td>blond</td>\n",
              "      <td>35.0</td>\n",
              "      <td>13.0</td>\n",
              "      <td>38166.0</td>\n",
              "      <td>M</td>\n",
              "      <td>licence</td>\n",
              "      <td>forage</td>\n",
              "      <td>63.86</td>\n",
              "      <td>non</td>\n",
              "      <td>0</td>\n",
              "    </tr>\n",
              "    <tr>\n",
              "      <th>2</th>\n",
              "      <td>2</td>\n",
              "      <td>2</td>\n",
              "      <td>2012-09-07</td>\n",
              "      <td>blond</td>\n",
              "      <td>29.0</td>\n",
              "      <td>13.0</td>\n",
              "      <td>35207.0</td>\n",
              "      <td>M</td>\n",
              "      <td>licence</td>\n",
              "      <td>geologie</td>\n",
              "      <td>78.50</td>\n",
              "      <td>non</td>\n",
              "      <td>0</td>\n",
              "    </tr>\n",
              "    <tr>\n",
              "      <th>3</th>\n",
              "      <td>3</td>\n",
              "      <td>3</td>\n",
              "      <td>2011-07-01</td>\n",
              "      <td>brun</td>\n",
              "      <td>NaN</td>\n",
              "      <td>12.0</td>\n",
              "      <td>32442.0</td>\n",
              "      <td>M</td>\n",
              "      <td>licence</td>\n",
              "      <td>geologie</td>\n",
              "      <td>45.09</td>\n",
              "      <td>non</td>\n",
              "      <td>0</td>\n",
              "    </tr>\n",
              "    <tr>\n",
              "      <th>4</th>\n",
              "      <td>4</td>\n",
              "      <td>4</td>\n",
              "      <td>2012-08-07</td>\n",
              "      <td>roux</td>\n",
              "      <td>35.0</td>\n",
              "      <td>6.0</td>\n",
              "      <td>28533.0</td>\n",
              "      <td>F</td>\n",
              "      <td>licence</td>\n",
              "      <td>detective</td>\n",
              "      <td>81.91</td>\n",
              "      <td>non</td>\n",
              "      <td>0</td>\n",
              "    </tr>\n",
              "  </tbody>\n",
              "</table>\n",
              "</div>"
            ],
            "text/plain": [
              "   Unnamed: 0  index        date cheveux   age   exp  salaire sexe  diplome  \\\n",
              "0           0      0  2012-06-02    roux  25.0   9.0  26803.0    F  licence   \n",
              "1           1      1  2011-04-21   blond  35.0  13.0  38166.0    M  licence   \n",
              "2           2      2  2012-09-07   blond  29.0  13.0  35207.0    M  licence   \n",
              "3           3      3  2011-07-01    brun   NaN  12.0  32442.0    M  licence   \n",
              "4           4      4  2012-08-07    roux  35.0   6.0  28533.0    F  licence   \n",
              "\n",
              "  specialite   note dispo  embauche  \n",
              "0   geologie  97.08   non         0  \n",
              "1     forage  63.86   non         0  \n",
              "2   geologie  78.50   non         0  \n",
              "3   geologie  45.09   non         0  \n",
              "4  detective  81.91   non         0  "
            ]
          },
          "execution_count": 63,
          "metadata": {},
          "output_type": "execute_result"
        }
      ],
      "source": [
        "# Lecture et affichage du dataset\n",
        "full_path_directory = os.path.realpath(os.path.dirname('__file__'))\n",
        "csv_name = 'data/data_v1.0.csv' \n",
        "data = pd.read_csv(os.path.join(full_path_directory, csv_name))\n",
        "data.head()"
      ]
    },
    {
      "cell_type": "markdown",
      "metadata": {
        "id": "_AHnVIi5vJyy"
      },
      "source": [
        "# PRE-PROCESSING"
      ]
    },
    {
      "cell_type": "code",
      "execution_count": 64,
      "metadata": {
        "colab": {
          "base_uri": "https://localhost:8080/",
          "height": 386
        },
        "id": "nmdMdxp5vJyz",
        "outputId": "8a4b85ee-d4d4-4502-e616-8d1d2c2aeff5"
      },
      "outputs": [
        {
          "data": {
            "text/html": [
              "<div>\n",
              "<style scoped>\n",
              "    .dataframe tbody tr th:only-of-type {\n",
              "        vertical-align: middle;\n",
              "    }\n",
              "\n",
              "    .dataframe tbody tr th {\n",
              "        vertical-align: top;\n",
              "    }\n",
              "\n",
              "    .dataframe thead th {\n",
              "        text-align: right;\n",
              "    }\n",
              "</style>\n",
              "<table border=\"1\" class=\"dataframe\">\n",
              "  <thead>\n",
              "    <tr style=\"text-align: right;\">\n",
              "      <th></th>\n",
              "      <th>Unnamed: 0</th>\n",
              "      <th>index</th>\n",
              "      <th>date</th>\n",
              "      <th>cheveux</th>\n",
              "      <th>age</th>\n",
              "      <th>exp</th>\n",
              "      <th>salaire</th>\n",
              "      <th>sexe</th>\n",
              "      <th>diplome</th>\n",
              "      <th>specialite</th>\n",
              "      <th>note</th>\n",
              "      <th>dispo</th>\n",
              "      <th>embauche</th>\n",
              "    </tr>\n",
              "  </thead>\n",
              "  <tbody>\n",
              "    <tr>\n",
              "      <th>0</th>\n",
              "      <td>0</td>\n",
              "      <td>0</td>\n",
              "      <td>2012-06-02</td>\n",
              "      <td>roux</td>\n",
              "      <td>25.0</td>\n",
              "      <td>9.0</td>\n",
              "      <td>26803.0</td>\n",
              "      <td>F</td>\n",
              "      <td>licence</td>\n",
              "      <td>geologie</td>\n",
              "      <td>97.08</td>\n",
              "      <td>non</td>\n",
              "      <td>0</td>\n",
              "    </tr>\n",
              "    <tr>\n",
              "      <th>1</th>\n",
              "      <td>1</td>\n",
              "      <td>1</td>\n",
              "      <td>2011-04-21</td>\n",
              "      <td>blond</td>\n",
              "      <td>35.0</td>\n",
              "      <td>13.0</td>\n",
              "      <td>38166.0</td>\n",
              "      <td>M</td>\n",
              "      <td>licence</td>\n",
              "      <td>forage</td>\n",
              "      <td>63.86</td>\n",
              "      <td>non</td>\n",
              "      <td>0</td>\n",
              "    </tr>\n",
              "    <tr>\n",
              "      <th>2</th>\n",
              "      <td>2</td>\n",
              "      <td>2</td>\n",
              "      <td>2012-09-07</td>\n",
              "      <td>blond</td>\n",
              "      <td>29.0</td>\n",
              "      <td>13.0</td>\n",
              "      <td>35207.0</td>\n",
              "      <td>M</td>\n",
              "      <td>licence</td>\n",
              "      <td>geologie</td>\n",
              "      <td>78.50</td>\n",
              "      <td>non</td>\n",
              "      <td>0</td>\n",
              "    </tr>\n",
              "    <tr>\n",
              "      <th>3</th>\n",
              "      <td>3</td>\n",
              "      <td>3</td>\n",
              "      <td>2011-07-01</td>\n",
              "      <td>brun</td>\n",
              "      <td>NaN</td>\n",
              "      <td>12.0</td>\n",
              "      <td>32442.0</td>\n",
              "      <td>M</td>\n",
              "      <td>licence</td>\n",
              "      <td>geologie</td>\n",
              "      <td>45.09</td>\n",
              "      <td>non</td>\n",
              "      <td>0</td>\n",
              "    </tr>\n",
              "    <tr>\n",
              "      <th>4</th>\n",
              "      <td>4</td>\n",
              "      <td>4</td>\n",
              "      <td>2012-08-07</td>\n",
              "      <td>roux</td>\n",
              "      <td>35.0</td>\n",
              "      <td>6.0</td>\n",
              "      <td>28533.0</td>\n",
              "      <td>F</td>\n",
              "      <td>licence</td>\n",
              "      <td>detective</td>\n",
              "      <td>81.91</td>\n",
              "      <td>non</td>\n",
              "      <td>0</td>\n",
              "    </tr>\n",
              "  </tbody>\n",
              "</table>\n",
              "</div>"
            ],
            "text/plain": [
              "   Unnamed: 0  index        date cheveux   age   exp  salaire sexe  diplome  \\\n",
              "0           0      0  2012-06-02    roux  25.0   9.0  26803.0    F  licence   \n",
              "1           1      1  2011-04-21   blond  35.0  13.0  38166.0    M  licence   \n",
              "2           2      2  2012-09-07   blond  29.0  13.0  35207.0    M  licence   \n",
              "3           3      3  2011-07-01    brun   NaN  12.0  32442.0    M  licence   \n",
              "4           4      4  2012-08-07    roux  35.0   6.0  28533.0    F  licence   \n",
              "\n",
              "  specialite   note dispo  embauche  \n",
              "0   geologie  97.08   non         0  \n",
              "1     forage  63.86   non         0  \n",
              "2   geologie  78.50   non         0  \n",
              "3   geologie  45.09   non         0  \n",
              "4  detective  81.91   non         0  "
            ]
          },
          "execution_count": 64,
          "metadata": {},
          "output_type": "execute_result"
        }
      ],
      "source": [
        "# Souvent utile de travailler avec un copie de la dataset original\n",
        "df = data.copy()\n",
        "df.head()"
      ]
    },
    {
      "cell_type": "markdown",
      "metadata": {
        "id": "Utxp9WEcvJy1"
      },
      "source": [
        "## Création des sous-ensembles (suite au EDA)"
      ]
    },
    {
      "cell_type": "code",
      "execution_count": 66,
      "metadata": {
        "id": "ziegnMu3vJy1"
      },
      "outputs": [
        {
          "data": {
            "text/plain": [
              "Unnamed: 0    0.00000\n",
              "index         0.00000\n",
              "date          0.00455\n",
              "cheveux       0.00515\n",
              "age           0.00455\n",
              "exp           0.00480\n",
              "salaire       0.00475\n",
              "sexe          0.00500\n",
              "diplome       0.00550\n",
              "specialite    0.00465\n",
              "note          0.00570\n",
              "dispo         0.00530\n",
              "embauche      0.00000\n",
              "dtype: float64"
            ]
          },
          "execution_count": 66,
          "metadata": {},
          "output_type": "execute_result"
        }
      ],
      "source": [
        "# Jeter un coup d'œil au pourcentage de valeurs non définies 'None'\n",
        "missing_rate = df.isna().sum()/df.shape[0]\n",
        "missing_rate"
      ]
    },
    {
      "cell_type": "code",
      "execution_count": 67,
      "metadata": {},
      "outputs": [
        {
          "data": {
            "text/html": [
              "<div>\n",
              "<style scoped>\n",
              "    .dataframe tbody tr th:only-of-type {\n",
              "        vertical-align: middle;\n",
              "    }\n",
              "\n",
              "    .dataframe tbody tr th {\n",
              "        vertical-align: top;\n",
              "    }\n",
              "\n",
              "    .dataframe thead th {\n",
              "        text-align: right;\n",
              "    }\n",
              "</style>\n",
              "<table border=\"1\" class=\"dataframe\">\n",
              "  <thead>\n",
              "    <tr style=\"text-align: right;\">\n",
              "      <th></th>\n",
              "      <th>age</th>\n",
              "      <th>exp</th>\n",
              "      <th>salaire</th>\n",
              "      <th>sexe</th>\n",
              "      <th>diplome</th>\n",
              "      <th>specialite</th>\n",
              "      <th>note</th>\n",
              "      <th>dispo</th>\n",
              "      <th>embauche</th>\n",
              "    </tr>\n",
              "  </thead>\n",
              "  <tbody>\n",
              "    <tr>\n",
              "      <th>0</th>\n",
              "      <td>25.0</td>\n",
              "      <td>9.0</td>\n",
              "      <td>26803.0</td>\n",
              "      <td>F</td>\n",
              "      <td>licence</td>\n",
              "      <td>geologie</td>\n",
              "      <td>97.08</td>\n",
              "      <td>non</td>\n",
              "      <td>0</td>\n",
              "    </tr>\n",
              "    <tr>\n",
              "      <th>1</th>\n",
              "      <td>35.0</td>\n",
              "      <td>13.0</td>\n",
              "      <td>38166.0</td>\n",
              "      <td>M</td>\n",
              "      <td>licence</td>\n",
              "      <td>forage</td>\n",
              "      <td>63.86</td>\n",
              "      <td>non</td>\n",
              "      <td>0</td>\n",
              "    </tr>\n",
              "    <tr>\n",
              "      <th>2</th>\n",
              "      <td>29.0</td>\n",
              "      <td>13.0</td>\n",
              "      <td>35207.0</td>\n",
              "      <td>M</td>\n",
              "      <td>licence</td>\n",
              "      <td>geologie</td>\n",
              "      <td>78.50</td>\n",
              "      <td>non</td>\n",
              "      <td>0</td>\n",
              "    </tr>\n",
              "    <tr>\n",
              "      <th>3</th>\n",
              "      <td>NaN</td>\n",
              "      <td>12.0</td>\n",
              "      <td>32442.0</td>\n",
              "      <td>M</td>\n",
              "      <td>licence</td>\n",
              "      <td>geologie</td>\n",
              "      <td>45.09</td>\n",
              "      <td>non</td>\n",
              "      <td>0</td>\n",
              "    </tr>\n",
              "    <tr>\n",
              "      <th>4</th>\n",
              "      <td>35.0</td>\n",
              "      <td>6.0</td>\n",
              "      <td>28533.0</td>\n",
              "      <td>F</td>\n",
              "      <td>licence</td>\n",
              "      <td>detective</td>\n",
              "      <td>81.91</td>\n",
              "      <td>non</td>\n",
              "      <td>0</td>\n",
              "    </tr>\n",
              "  </tbody>\n",
              "</table>\n",
              "</div>"
            ],
            "text/plain": [
              "    age   exp  salaire sexe  diplome specialite   note dispo  embauche\n",
              "0  25.0   9.0  26803.0    F  licence   geologie  97.08   non         0\n",
              "1  35.0  13.0  38166.0    M  licence     forage  63.86   non         0\n",
              "2  29.0  13.0  35207.0    M  licence   geologie  78.50   non         0\n",
              "3   NaN  12.0  32442.0    M  licence   geologie  45.09   non         0\n",
              "4  35.0   6.0  28533.0    F  licence  detective  81.91   non         0"
            ]
          },
          "execution_count": 67,
          "metadata": {},
          "output_type": "execute_result"
        }
      ],
      "source": [
        "# Extraire seulement les featurs que nous avons estimés importantes dans le notebook \"Exploratory_Data_Analysis.ipynb\" \n",
        "key_columns = df.columns.drop(['Unnamed: 0', 'index', 'date', 'cheveux'])\n",
        "df = df[key_columns]\n",
        "df.head()"
      ]
    },
    {
      "cell_type": "markdown",
      "metadata": {
        "id": "kjDxmab7vJy9"
      },
      "source": [
        "## TrainTest - Nettoyage - Encodage"
      ]
    },
    {
      "cell_type": "code",
      "execution_count": 68,
      "metadata": {
        "id": "FGoTxrGhvJy9"
      },
      "outputs": [],
      "source": [
        "from sklearn.model_selection import train_test_split"
      ]
    },
    {
      "cell_type": "code",
      "execution_count": 69,
      "metadata": {
        "id": "dNOA3tuNvJy_"
      },
      "outputs": [],
      "source": [
        "# 80% de données de train et 20% pour les données de test\n",
        "trainset, testset = train_test_split(df, test_size=0.2, random_state=0)"
      ]
    },
    {
      "cell_type": "code",
      "execution_count": 70,
      "metadata": {
        "colab": {
          "base_uri": "https://localhost:8080/",
          "height": 68
        },
        "id": "CRoPWXQovJzB",
        "outputId": "843f4ca3-37fb-4447-aca5-a988ad2c4a7b"
      },
      "outputs": [
        {
          "data": {
            "text/plain": [
              "0    14152\n",
              "1     1848\n",
              "Name: embauche, dtype: int64"
            ]
          },
          "execution_count": 70,
          "metadata": {},
          "output_type": "execute_result"
        }
      ],
      "source": [
        "trainset['embauche'].value_counts()"
      ]
    },
    {
      "cell_type": "code",
      "execution_count": 71,
      "metadata": {
        "colab": {
          "base_uri": "https://localhost:8080/",
          "height": 68
        },
        "id": "85m56b32vJzD",
        "outputId": "08751b73-6286-4175-f9c9-6e7f9351fe3f"
      },
      "outputs": [
        {
          "data": {
            "text/plain": [
              "0    3556\n",
              "1     444\n",
              "Name: embauche, dtype: int64"
            ]
          },
          "execution_count": 71,
          "metadata": {},
          "output_type": "execute_result"
        }
      ],
      "source": [
        "testset['embauche'].value_counts()"
      ]
    },
    {
      "cell_type": "code",
      "execution_count": 14,
      "metadata": {
        "id": "3jgKiQcyvJzF"
      },
      "outputs": [],
      "source": [
        "def encodage(df):\n",
        "    \"\"\"\n",
        "    Encoder les colonnes de type Object\n",
        "    \"\"\"\n",
        "    code = {'non':0, 'oui':1,\n",
        "            'bac':0, 'licence':1,'master':2, 'doctorat':3,\n",
        "            'geologie':0, 'forage':1, 'detective':2, 'archeologie':3,\n",
        "            'F':0, 'M':1}\n",
        "    \n",
        "    for col in df.select_dtypes('object').columns:\n",
        "        df.loc[:,col] = df[col].map(code)\n",
        "        \n",
        "    return df"
      ]
    },
    {
      "cell_type": "code",
      "execution_count": 22,
      "metadata": {
        "id": "RKdIkxtHvJzH"
      },
      "outputs": [],
      "source": [
        "# def feature_engineering(df):\n",
        "#     df['est malade'] = df[viral_columns].sum(axis=1) >= 1\n",
        "#     df = df.drop(viral_columns, axis=1)\n",
        "#     return df\n"
      ]
    },
    {
      "cell_type": "code",
      "execution_count": 23,
      "metadata": {
        "id": "qcp9JvE5vJzJ"
      },
      "outputs": [],
      "source": [
        "def imputation(df):\n",
        "    # df['is na'] = (df['Parainfluenza 3'].isna()) | (df['Leukocytes'].isna())\n",
        "    # remplire toutes les valeur manquante avec une valeur extrème\n",
        "    # df = df.fillna(-999)\n",
        "    df = df.dropna(axis=0)\n",
        "    return  df"
      ]
    },
    {
      "cell_type": "code",
      "execution_count": 24,
      "metadata": {
        "id": "AKYCi3NnvJzK"
      },
      "outputs": [],
      "source": [
        "def preprocessing(df):\n",
        "    \n",
        "    df = encodage(df)\n",
        "    # df = feature_engineering(df)\n",
        "    df = imputation(df)\n",
        "    \n",
        "    y = df['embauche']\n",
        "    X = df.drop('embauche', axis=1)\n",
        "    \n",
        "    print(y.value_counts())\n",
        "    \n",
        "    return X, y"
      ]
    },
    {
      "cell_type": "code",
      "execution_count": 25,
      "metadata": {
        "colab": {
          "base_uri": "https://localhost:8080/",
          "height": 272
        },
        "id": "3KBs-ujBvJzM",
        "outputId": "2bcacce4-762f-437e-c4ed-51fc3b0f8462"
      },
      "outputs": [
        {
          "name": "stdout",
          "output_type": "stream",
          "text": [
            "0    13576\n",
            "1     1772\n",
            "Name: embauche, dtype: int64\n"
          ]
        }
      ],
      "source": [
        "X_train, y_train = preprocessing(trainset)"
      ]
    },
    {
      "cell_type": "code",
      "execution_count": 26,
      "metadata": {
        "colab": {
          "base_uri": "https://localhost:8080/",
          "height": 272
        },
        "id": "DVf4oBdnvJzP",
        "outputId": "f96ad64d-7dfd-4c51-9f3e-bcc2fcdfd903"
      },
      "outputs": [
        {
          "name": "stdout",
          "output_type": "stream",
          "text": [
            "0    3428\n",
            "1     431\n",
            "Name: embauche, dtype: int64\n"
          ]
        }
      ],
      "source": [
        "X_test, y_test = preprocessing(testset)"
      ]
    },
    {
      "cell_type": "code",
      "execution_count": 27,
      "metadata": {},
      "outputs": [
        {
          "data": {
            "text/plain": [
              "(        age   exp  salaire  sexe  diplome  specialite   note  dispo  embauche\n",
              " 17815  35.0   4.0  31962.0   1.0      2.0         0.0  67.97    0.0         0\n",
              " 18370  47.0  11.0  38712.0   1.0      1.0         0.0  59.58    0.0         0\n",
              " 1379   25.0  12.0  36379.0   0.0      1.0         1.0  66.00    0.0         0\n",
              " 14763  51.0   9.0  39712.0   1.0      1.0         0.0  55.95    0.0         0\n",
              " 7346   50.0  11.0  43528.0   0.0      1.0         3.0  63.92    0.0         1,\n",
              "         age   exp  salaire  sexe  diplome  specialite    note  dispo  embauche\n",
              " 19134  32.0   7.0  32385.0   1.0      2.0         2.0  103.53    1.0         0\n",
              " 4981   30.0  10.0  28249.0   0.0      0.0         3.0   63.01    0.0         1\n",
              " 16643  41.0  10.0  33342.0   1.0      2.0         0.0  110.73    1.0         0\n",
              " 19117  37.0   9.0  38237.0   0.0      2.0         1.0   78.32    0.0         0\n",
              " 5306   42.0   6.0  42459.0   1.0      2.0         2.0   64.59    1.0         0)"
            ]
          },
          "execution_count": 27,
          "metadata": {},
          "output_type": "execute_result"
        }
      ],
      "source": [
        "trainset.head(), testset.head()"
      ]
    },
    {
      "cell_type": "markdown",
      "metadata": {
        "id": "yLFEfMcmvJzQ"
      },
      "source": [
        "## Modellisation"
      ]
    },
    {
      "cell_type": "code",
      "execution_count": 49,
      "metadata": {
        "id": "DaYCentPvJzR"
      },
      "outputs": [],
      "source": [
        "from sklearn.tree import DecisionTreeClassifier\n",
        "from sklearn.ensemble import RandomForestClassifier\n",
        "from sklearn.pipeline import make_pipeline\n",
        "from sklearn.feature_selection import SelectKBest, f_classif\n",
        "from sklearn.preprocessing import PolynomialFeatures\n",
        "from sklearn.decomposition import PCA"
      ]
    },
    {
      "cell_type": "code",
      "execution_count": 55,
      "metadata": {
        "id": "A85d9oArvJzS"
      },
      "outputs": [],
      "source": [
        "# Je préfére en générale de cree un arbre de décision dans premier temps car ce sont\n",
        "# des modèles (très rapide, faciles à comprendre, très utilent pour diagnostiquer\n",
        "# diagnostiquer un modèle (variables importantent...))\n",
        "# Dans un premier temps on entraine avec les paramètre par defaut du classifier\n",
        "# Puis nous pouvouvant prendre deds decision par la suite pour améliorer ce \n",
        "# dernier\n",
        "\n",
        "# Jai opter pour la métrique f1 car c'est une très bonne metrique pour avoir un bon\n",
        "# appercue entre le rapport precision et rappel/recall/secipilité\n",
        "# Précision et le recole ce sont des métriques qui nous permetent de meusurer \n",
        "# les proportion d'erreur de type 1 et 2 dans notre dataset, càd:\n",
        "# Les proportion de faut positif et de faut negatif que nottre modèle effectie.\n",
        "\n",
        "# lerarnig curve pour comprendre si notre modèle est en ender feting ou over feting\n",
        "# à partir de la on va pouvoir prendre des decisions (selection de variables, \n",
        "# cree des polynomes ...)\n",
        "model_1 = RandomForestClassifier(random_state=0)\n"
      ]
    },
    {
      "cell_type": "code",
      "execution_count": 56,
      "metadata": {
        "id": "N-VDXhe2vJzU"
      },
      "outputs": [],
      "source": [
        "model_2 = make_pipeline(PolynomialFeatures(2), SelectKBest(f_classif, k=10),\n",
        "                      RandomForestClassifier(random_state=0))"
      ]
    },
    {
      "cell_type": "markdown",
      "metadata": {
        "id": "_iwPzFFKvJzV"
      },
      "source": [
        "## Procédure d'évaluation"
      ]
    },
    {
      "cell_type": "code",
      "execution_count": 57,
      "metadata": {
        "id": "thqK6zyxvJzW"
      },
      "outputs": [],
      "source": [
        "from sklearn.metrics import f1_score, confusion_matrix, classification_report\n",
        "from sklearn.model_selection import learning_curve"
      ]
    },
    {
      "cell_type": "code",
      "execution_count": 58,
      "metadata": {
        "id": "Ig2M_p3FvJzX"
      },
      "outputs": [],
      "source": [
        "def evaluation(model):\n",
        "    \n",
        "    model.fit(X_train, y_train)\n",
        "    ypred = model.predict(X_test)\n",
        "    \n",
        "    print(confusion_matrix(y_test, ypred))\n",
        "    print(classification_report(y_test, ypred))\n",
        "    \n",
        "    N, train_score, val_score = learning_curve(model, X_train, y_train,\n",
        "                                              cv=4, scoring='f1',\n",
        "                                               train_sizes=np.linspace(0.1, 1, 10))\n",
        "    \n",
        "    \n",
        "    plt.figure(figsize=(12, 8))\n",
        "    plt.plot(N, train_score.mean(axis=1), label='train score')\n",
        "    plt.plot(N, val_score.mean(axis=1), label='validation score')\n",
        "    plt.legend()\n",
        "    \n",
        "    "
      ]
    },
    {
      "cell_type": "code",
      "execution_count": 59,
      "metadata": {
        "colab": {
          "base_uri": "https://localhost:8080/",
          "height": 670
        },
        "id": "94u9GhSyvJzZ",
        "outputId": "1387dd13-97b5-463a-a11c-f298acd2364a"
      },
      "outputs": [
        {
          "name": "stderr",
          "output_type": "stream",
          "text": [
            "c:\\Users\\Brani\\anaconda3\\envs\\env_ML\\lib\\site-packages\\sklearn\\feature_selection\\_univariate_selection.py:110: UserWarning: Features [0] are constant.\n",
            "  warnings.warn(\"Features %s are constant.\" % constant_features_idx, UserWarning)\n",
            "c:\\Users\\Brani\\anaconda3\\envs\\env_ML\\lib\\site-packages\\sklearn\\feature_selection\\_univariate_selection.py:111: RuntimeWarning: invalid value encountered in true_divide\n",
            "  f = msb / msw\n"
          ]
        },
        {
          "name": "stdout",
          "output_type": "stream",
          "text": [
            "[[3315  113]\n",
            " [ 282  149]]\n",
            "              precision    recall  f1-score   support\n",
            "\n",
            "           0       0.92      0.97      0.94      3428\n",
            "           1       0.57      0.35      0.43       431\n",
            "\n",
            "    accuracy                           0.90      3859\n",
            "   macro avg       0.75      0.66      0.69      3859\n",
            "weighted avg       0.88      0.90      0.89      3859\n",
            "\n"
          ]
        },
        {
          "name": "stderr",
          "output_type": "stream",
          "text": [
            "c:\\Users\\Brani\\anaconda3\\envs\\env_ML\\lib\\site-packages\\sklearn\\feature_selection\\_univariate_selection.py:110: UserWarning: Features [0] are constant.\n",
            "  warnings.warn(\"Features %s are constant.\" % constant_features_idx, UserWarning)\n",
            "c:\\Users\\Brani\\anaconda3\\envs\\env_ML\\lib\\site-packages\\sklearn\\feature_selection\\_univariate_selection.py:111: RuntimeWarning: invalid value encountered in true_divide\n",
            "  f = msb / msw\n",
            "c:\\Users\\Brani\\anaconda3\\envs\\env_ML\\lib\\site-packages\\sklearn\\feature_selection\\_univariate_selection.py:110: UserWarning: Features [0] are constant.\n",
            "  warnings.warn(\"Features %s are constant.\" % constant_features_idx, UserWarning)\n",
            "c:\\Users\\Brani\\anaconda3\\envs\\env_ML\\lib\\site-packages\\sklearn\\feature_selection\\_univariate_selection.py:111: RuntimeWarning: invalid value encountered in true_divide\n",
            "  f = msb / msw\n",
            "c:\\Users\\Brani\\anaconda3\\envs\\env_ML\\lib\\site-packages\\sklearn\\feature_selection\\_univariate_selection.py:110: UserWarning: Features [0] are constant.\n",
            "  warnings.warn(\"Features %s are constant.\" % constant_features_idx, UserWarning)\n",
            "c:\\Users\\Brani\\anaconda3\\envs\\env_ML\\lib\\site-packages\\sklearn\\feature_selection\\_univariate_selection.py:111: RuntimeWarning: invalid value encountered in true_divide\n",
            "  f = msb / msw\n",
            "c:\\Users\\Brani\\anaconda3\\envs\\env_ML\\lib\\site-packages\\sklearn\\feature_selection\\_univariate_selection.py:110: UserWarning: Features [0] are constant.\n",
            "  warnings.warn(\"Features %s are constant.\" % constant_features_idx, UserWarning)\n",
            "c:\\Users\\Brani\\anaconda3\\envs\\env_ML\\lib\\site-packages\\sklearn\\feature_selection\\_univariate_selection.py:111: RuntimeWarning: invalid value encountered in true_divide\n",
            "  f = msb / msw\n",
            "c:\\Users\\Brani\\anaconda3\\envs\\env_ML\\lib\\site-packages\\sklearn\\feature_selection\\_univariate_selection.py:110: UserWarning: Features [0] are constant.\n",
            "  warnings.warn(\"Features %s are constant.\" % constant_features_idx, UserWarning)\n",
            "c:\\Users\\Brani\\anaconda3\\envs\\env_ML\\lib\\site-packages\\sklearn\\feature_selection\\_univariate_selection.py:111: RuntimeWarning: invalid value encountered in true_divide\n",
            "  f = msb / msw\n",
            "c:\\Users\\Brani\\anaconda3\\envs\\env_ML\\lib\\site-packages\\sklearn\\feature_selection\\_univariate_selection.py:110: UserWarning: Features [0] are constant.\n",
            "  warnings.warn(\"Features %s are constant.\" % constant_features_idx, UserWarning)\n",
            "c:\\Users\\Brani\\anaconda3\\envs\\env_ML\\lib\\site-packages\\sklearn\\feature_selection\\_univariate_selection.py:111: RuntimeWarning: invalid value encountered in true_divide\n",
            "  f = msb / msw\n",
            "c:\\Users\\Brani\\anaconda3\\envs\\env_ML\\lib\\site-packages\\sklearn\\feature_selection\\_univariate_selection.py:110: UserWarning: Features [0] are constant.\n",
            "  warnings.warn(\"Features %s are constant.\" % constant_features_idx, UserWarning)\n",
            "c:\\Users\\Brani\\anaconda3\\envs\\env_ML\\lib\\site-packages\\sklearn\\feature_selection\\_univariate_selection.py:111: RuntimeWarning: invalid value encountered in true_divide\n",
            "  f = msb / msw\n",
            "c:\\Users\\Brani\\anaconda3\\envs\\env_ML\\lib\\site-packages\\sklearn\\feature_selection\\_univariate_selection.py:110: UserWarning: Features [0] are constant.\n",
            "  warnings.warn(\"Features %s are constant.\" % constant_features_idx, UserWarning)\n",
            "c:\\Users\\Brani\\anaconda3\\envs\\env_ML\\lib\\site-packages\\sklearn\\feature_selection\\_univariate_selection.py:111: RuntimeWarning: invalid value encountered in true_divide\n",
            "  f = msb / msw\n",
            "c:\\Users\\Brani\\anaconda3\\envs\\env_ML\\lib\\site-packages\\sklearn\\feature_selection\\_univariate_selection.py:110: UserWarning: Features [0] are constant.\n",
            "  warnings.warn(\"Features %s are constant.\" % constant_features_idx, UserWarning)\n",
            "c:\\Users\\Brani\\anaconda3\\envs\\env_ML\\lib\\site-packages\\sklearn\\feature_selection\\_univariate_selection.py:111: RuntimeWarning: invalid value encountered in true_divide\n",
            "  f = msb / msw\n",
            "c:\\Users\\Brani\\anaconda3\\envs\\env_ML\\lib\\site-packages\\sklearn\\feature_selection\\_univariate_selection.py:110: UserWarning: Features [0] are constant.\n",
            "  warnings.warn(\"Features %s are constant.\" % constant_features_idx, UserWarning)\n",
            "c:\\Users\\Brani\\anaconda3\\envs\\env_ML\\lib\\site-packages\\sklearn\\feature_selection\\_univariate_selection.py:111: RuntimeWarning: invalid value encountered in true_divide\n",
            "  f = msb / msw\n",
            "c:\\Users\\Brani\\anaconda3\\envs\\env_ML\\lib\\site-packages\\sklearn\\feature_selection\\_univariate_selection.py:110: UserWarning: Features [0] are constant.\n",
            "  warnings.warn(\"Features %s are constant.\" % constant_features_idx, UserWarning)\n",
            "c:\\Users\\Brani\\anaconda3\\envs\\env_ML\\lib\\site-packages\\sklearn\\feature_selection\\_univariate_selection.py:111: RuntimeWarning: invalid value encountered in true_divide\n",
            "  f = msb / msw\n",
            "c:\\Users\\Brani\\anaconda3\\envs\\env_ML\\lib\\site-packages\\sklearn\\feature_selection\\_univariate_selection.py:110: UserWarning: Features [0] are constant.\n",
            "  warnings.warn(\"Features %s are constant.\" % constant_features_idx, UserWarning)\n",
            "c:\\Users\\Brani\\anaconda3\\envs\\env_ML\\lib\\site-packages\\sklearn\\feature_selection\\_univariate_selection.py:111: RuntimeWarning: invalid value encountered in true_divide\n",
            "  f = msb / msw\n",
            "c:\\Users\\Brani\\anaconda3\\envs\\env_ML\\lib\\site-packages\\sklearn\\feature_selection\\_univariate_selection.py:110: UserWarning: Features [0] are constant.\n",
            "  warnings.warn(\"Features %s are constant.\" % constant_features_idx, UserWarning)\n",
            "c:\\Users\\Brani\\anaconda3\\envs\\env_ML\\lib\\site-packages\\sklearn\\feature_selection\\_univariate_selection.py:111: RuntimeWarning: invalid value encountered in true_divide\n",
            "  f = msb / msw\n",
            "c:\\Users\\Brani\\anaconda3\\envs\\env_ML\\lib\\site-packages\\sklearn\\feature_selection\\_univariate_selection.py:110: UserWarning: Features [0] are constant.\n",
            "  warnings.warn(\"Features %s are constant.\" % constant_features_idx, UserWarning)\n",
            "c:\\Users\\Brani\\anaconda3\\envs\\env_ML\\lib\\site-packages\\sklearn\\feature_selection\\_univariate_selection.py:111: RuntimeWarning: invalid value encountered in true_divide\n",
            "  f = msb / msw\n",
            "c:\\Users\\Brani\\anaconda3\\envs\\env_ML\\lib\\site-packages\\sklearn\\feature_selection\\_univariate_selection.py:110: UserWarning: Features [0] are constant.\n",
            "  warnings.warn(\"Features %s are constant.\" % constant_features_idx, UserWarning)\n",
            "c:\\Users\\Brani\\anaconda3\\envs\\env_ML\\lib\\site-packages\\sklearn\\feature_selection\\_univariate_selection.py:111: RuntimeWarning: invalid value encountered in true_divide\n",
            "  f = msb / msw\n",
            "c:\\Users\\Brani\\anaconda3\\envs\\env_ML\\lib\\site-packages\\sklearn\\feature_selection\\_univariate_selection.py:110: UserWarning: Features [0] are constant.\n",
            "  warnings.warn(\"Features %s are constant.\" % constant_features_idx, UserWarning)\n",
            "c:\\Users\\Brani\\anaconda3\\envs\\env_ML\\lib\\site-packages\\sklearn\\feature_selection\\_univariate_selection.py:111: RuntimeWarning: invalid value encountered in true_divide\n",
            "  f = msb / msw\n",
            "c:\\Users\\Brani\\anaconda3\\envs\\env_ML\\lib\\site-packages\\sklearn\\feature_selection\\_univariate_selection.py:110: UserWarning: Features [0] are constant.\n",
            "  warnings.warn(\"Features %s are constant.\" % constant_features_idx, UserWarning)\n",
            "c:\\Users\\Brani\\anaconda3\\envs\\env_ML\\lib\\site-packages\\sklearn\\feature_selection\\_univariate_selection.py:111: RuntimeWarning: invalid value encountered in true_divide\n",
            "  f = msb / msw\n",
            "c:\\Users\\Brani\\anaconda3\\envs\\env_ML\\lib\\site-packages\\sklearn\\feature_selection\\_univariate_selection.py:110: UserWarning: Features [0] are constant.\n",
            "  warnings.warn(\"Features %s are constant.\" % constant_features_idx, UserWarning)\n",
            "c:\\Users\\Brani\\anaconda3\\envs\\env_ML\\lib\\site-packages\\sklearn\\feature_selection\\_univariate_selection.py:111: RuntimeWarning: invalid value encountered in true_divide\n",
            "  f = msb / msw\n",
            "c:\\Users\\Brani\\anaconda3\\envs\\env_ML\\lib\\site-packages\\sklearn\\feature_selection\\_univariate_selection.py:110: UserWarning: Features [0] are constant.\n",
            "  warnings.warn(\"Features %s are constant.\" % constant_features_idx, UserWarning)\n",
            "c:\\Users\\Brani\\anaconda3\\envs\\env_ML\\lib\\site-packages\\sklearn\\feature_selection\\_univariate_selection.py:111: RuntimeWarning: invalid value encountered in true_divide\n",
            "  f = msb / msw\n",
            "c:\\Users\\Brani\\anaconda3\\envs\\env_ML\\lib\\site-packages\\sklearn\\feature_selection\\_univariate_selection.py:110: UserWarning: Features [0] are constant.\n",
            "  warnings.warn(\"Features %s are constant.\" % constant_features_idx, UserWarning)\n",
            "c:\\Users\\Brani\\anaconda3\\envs\\env_ML\\lib\\site-packages\\sklearn\\feature_selection\\_univariate_selection.py:111: RuntimeWarning: invalid value encountered in true_divide\n",
            "  f = msb / msw\n",
            "c:\\Users\\Brani\\anaconda3\\envs\\env_ML\\lib\\site-packages\\sklearn\\feature_selection\\_univariate_selection.py:110: UserWarning: Features [0] are constant.\n",
            "  warnings.warn(\"Features %s are constant.\" % constant_features_idx, UserWarning)\n",
            "c:\\Users\\Brani\\anaconda3\\envs\\env_ML\\lib\\site-packages\\sklearn\\feature_selection\\_univariate_selection.py:111: RuntimeWarning: invalid value encountered in true_divide\n",
            "  f = msb / msw\n",
            "c:\\Users\\Brani\\anaconda3\\envs\\env_ML\\lib\\site-packages\\sklearn\\feature_selection\\_univariate_selection.py:110: UserWarning: Features [0] are constant.\n",
            "  warnings.warn(\"Features %s are constant.\" % constant_features_idx, UserWarning)\n",
            "c:\\Users\\Brani\\anaconda3\\envs\\env_ML\\lib\\site-packages\\sklearn\\feature_selection\\_univariate_selection.py:111: RuntimeWarning: invalid value encountered in true_divide\n",
            "  f = msb / msw\n",
            "c:\\Users\\Brani\\anaconda3\\envs\\env_ML\\lib\\site-packages\\sklearn\\feature_selection\\_univariate_selection.py:110: UserWarning: Features [0] are constant.\n",
            "  warnings.warn(\"Features %s are constant.\" % constant_features_idx, UserWarning)\n",
            "c:\\Users\\Brani\\anaconda3\\envs\\env_ML\\lib\\site-packages\\sklearn\\feature_selection\\_univariate_selection.py:111: RuntimeWarning: invalid value encountered in true_divide\n",
            "  f = msb / msw\n",
            "c:\\Users\\Brani\\anaconda3\\envs\\env_ML\\lib\\site-packages\\sklearn\\feature_selection\\_univariate_selection.py:110: UserWarning: Features [0] are constant.\n",
            "  warnings.warn(\"Features %s are constant.\" % constant_features_idx, UserWarning)\n",
            "c:\\Users\\Brani\\anaconda3\\envs\\env_ML\\lib\\site-packages\\sklearn\\feature_selection\\_univariate_selection.py:111: RuntimeWarning: invalid value encountered in true_divide\n",
            "  f = msb / msw\n",
            "c:\\Users\\Brani\\anaconda3\\envs\\env_ML\\lib\\site-packages\\sklearn\\feature_selection\\_univariate_selection.py:110: UserWarning: Features [0] are constant.\n",
            "  warnings.warn(\"Features %s are constant.\" % constant_features_idx, UserWarning)\n",
            "c:\\Users\\Brani\\anaconda3\\envs\\env_ML\\lib\\site-packages\\sklearn\\feature_selection\\_univariate_selection.py:111: RuntimeWarning: invalid value encountered in true_divide\n",
            "  f = msb / msw\n",
            "c:\\Users\\Brani\\anaconda3\\envs\\env_ML\\lib\\site-packages\\sklearn\\feature_selection\\_univariate_selection.py:110: UserWarning: Features [0] are constant.\n",
            "  warnings.warn(\"Features %s are constant.\" % constant_features_idx, UserWarning)\n",
            "c:\\Users\\Brani\\anaconda3\\envs\\env_ML\\lib\\site-packages\\sklearn\\feature_selection\\_univariate_selection.py:111: RuntimeWarning: invalid value encountered in true_divide\n",
            "  f = msb / msw\n",
            "c:\\Users\\Brani\\anaconda3\\envs\\env_ML\\lib\\site-packages\\sklearn\\feature_selection\\_univariate_selection.py:110: UserWarning: Features [0] are constant.\n",
            "  warnings.warn(\"Features %s are constant.\" % constant_features_idx, UserWarning)\n",
            "c:\\Users\\Brani\\anaconda3\\envs\\env_ML\\lib\\site-packages\\sklearn\\feature_selection\\_univariate_selection.py:111: RuntimeWarning: invalid value encountered in true_divide\n",
            "  f = msb / msw\n",
            "c:\\Users\\Brani\\anaconda3\\envs\\env_ML\\lib\\site-packages\\sklearn\\feature_selection\\_univariate_selection.py:110: UserWarning: Features [0] are constant.\n",
            "  warnings.warn(\"Features %s are constant.\" % constant_features_idx, UserWarning)\n",
            "c:\\Users\\Brani\\anaconda3\\envs\\env_ML\\lib\\site-packages\\sklearn\\feature_selection\\_univariate_selection.py:111: RuntimeWarning: invalid value encountered in true_divide\n",
            "  f = msb / msw\n",
            "c:\\Users\\Brani\\anaconda3\\envs\\env_ML\\lib\\site-packages\\sklearn\\feature_selection\\_univariate_selection.py:110: UserWarning: Features [0] are constant.\n",
            "  warnings.warn(\"Features %s are constant.\" % constant_features_idx, UserWarning)\n",
            "c:\\Users\\Brani\\anaconda3\\envs\\env_ML\\lib\\site-packages\\sklearn\\feature_selection\\_univariate_selection.py:111: RuntimeWarning: invalid value encountered in true_divide\n",
            "  f = msb / msw\n",
            "c:\\Users\\Brani\\anaconda3\\envs\\env_ML\\lib\\site-packages\\sklearn\\feature_selection\\_univariate_selection.py:110: UserWarning: Features [0] are constant.\n",
            "  warnings.warn(\"Features %s are constant.\" % constant_features_idx, UserWarning)\n",
            "c:\\Users\\Brani\\anaconda3\\envs\\env_ML\\lib\\site-packages\\sklearn\\feature_selection\\_univariate_selection.py:111: RuntimeWarning: invalid value encountered in true_divide\n",
            "  f = msb / msw\n",
            "c:\\Users\\Brani\\anaconda3\\envs\\env_ML\\lib\\site-packages\\sklearn\\feature_selection\\_univariate_selection.py:110: UserWarning: Features [0] are constant.\n",
            "  warnings.warn(\"Features %s are constant.\" % constant_features_idx, UserWarning)\n",
            "c:\\Users\\Brani\\anaconda3\\envs\\env_ML\\lib\\site-packages\\sklearn\\feature_selection\\_univariate_selection.py:111: RuntimeWarning: invalid value encountered in true_divide\n",
            "  f = msb / msw\n",
            "c:\\Users\\Brani\\anaconda3\\envs\\env_ML\\lib\\site-packages\\sklearn\\feature_selection\\_univariate_selection.py:110: UserWarning: Features [0] are constant.\n",
            "  warnings.warn(\"Features %s are constant.\" % constant_features_idx, UserWarning)\n",
            "c:\\Users\\Brani\\anaconda3\\envs\\env_ML\\lib\\site-packages\\sklearn\\feature_selection\\_univariate_selection.py:111: RuntimeWarning: invalid value encountered in true_divide\n",
            "  f = msb / msw\n",
            "c:\\Users\\Brani\\anaconda3\\envs\\env_ML\\lib\\site-packages\\sklearn\\feature_selection\\_univariate_selection.py:110: UserWarning: Features [0] are constant.\n",
            "  warnings.warn(\"Features %s are constant.\" % constant_features_idx, UserWarning)\n",
            "c:\\Users\\Brani\\anaconda3\\envs\\env_ML\\lib\\site-packages\\sklearn\\feature_selection\\_univariate_selection.py:111: RuntimeWarning: invalid value encountered in true_divide\n",
            "  f = msb / msw\n",
            "c:\\Users\\Brani\\anaconda3\\envs\\env_ML\\lib\\site-packages\\sklearn\\feature_selection\\_univariate_selection.py:110: UserWarning: Features [0] are constant.\n",
            "  warnings.warn(\"Features %s are constant.\" % constant_features_idx, UserWarning)\n",
            "c:\\Users\\Brani\\anaconda3\\envs\\env_ML\\lib\\site-packages\\sklearn\\feature_selection\\_univariate_selection.py:111: RuntimeWarning: invalid value encountered in true_divide\n",
            "  f = msb / msw\n",
            "c:\\Users\\Brani\\anaconda3\\envs\\env_ML\\lib\\site-packages\\sklearn\\feature_selection\\_univariate_selection.py:110: UserWarning: Features [0] are constant.\n",
            "  warnings.warn(\"Features %s are constant.\" % constant_features_idx, UserWarning)\n",
            "c:\\Users\\Brani\\anaconda3\\envs\\env_ML\\lib\\site-packages\\sklearn\\feature_selection\\_univariate_selection.py:111: RuntimeWarning: invalid value encountered in true_divide\n",
            "  f = msb / msw\n",
            "c:\\Users\\Brani\\anaconda3\\envs\\env_ML\\lib\\site-packages\\sklearn\\feature_selection\\_univariate_selection.py:110: UserWarning: Features [0] are constant.\n",
            "  warnings.warn(\"Features %s are constant.\" % constant_features_idx, UserWarning)\n",
            "c:\\Users\\Brani\\anaconda3\\envs\\env_ML\\lib\\site-packages\\sklearn\\feature_selection\\_univariate_selection.py:111: RuntimeWarning: invalid value encountered in true_divide\n",
            "  f = msb / msw\n",
            "c:\\Users\\Brani\\anaconda3\\envs\\env_ML\\lib\\site-packages\\sklearn\\feature_selection\\_univariate_selection.py:110: UserWarning: Features [0] are constant.\n",
            "  warnings.warn(\"Features %s are constant.\" % constant_features_idx, UserWarning)\n",
            "c:\\Users\\Brani\\anaconda3\\envs\\env_ML\\lib\\site-packages\\sklearn\\feature_selection\\_univariate_selection.py:111: RuntimeWarning: invalid value encountered in true_divide\n",
            "  f = msb / msw\n",
            "c:\\Users\\Brani\\anaconda3\\envs\\env_ML\\lib\\site-packages\\sklearn\\feature_selection\\_univariate_selection.py:110: UserWarning: Features [0] are constant.\n",
            "  warnings.warn(\"Features %s are constant.\" % constant_features_idx, UserWarning)\n",
            "c:\\Users\\Brani\\anaconda3\\envs\\env_ML\\lib\\site-packages\\sklearn\\feature_selection\\_univariate_selection.py:111: RuntimeWarning: invalid value encountered in true_divide\n",
            "  f = msb / msw\n",
            "c:\\Users\\Brani\\anaconda3\\envs\\env_ML\\lib\\site-packages\\sklearn\\feature_selection\\_univariate_selection.py:110: UserWarning: Features [0] are constant.\n",
            "  warnings.warn(\"Features %s are constant.\" % constant_features_idx, UserWarning)\n",
            "c:\\Users\\Brani\\anaconda3\\envs\\env_ML\\lib\\site-packages\\sklearn\\feature_selection\\_univariate_selection.py:111: RuntimeWarning: invalid value encountered in true_divide\n",
            "  f = msb / msw\n",
            "c:\\Users\\Brani\\anaconda3\\envs\\env_ML\\lib\\site-packages\\sklearn\\feature_selection\\_univariate_selection.py:110: UserWarning: Features [0] are constant.\n",
            "  warnings.warn(\"Features %s are constant.\" % constant_features_idx, UserWarning)\n",
            "c:\\Users\\Brani\\anaconda3\\envs\\env_ML\\lib\\site-packages\\sklearn\\feature_selection\\_univariate_selection.py:111: RuntimeWarning: invalid value encountered in true_divide\n",
            "  f = msb / msw\n"
          ]
        },
        {
          "data": {
            "image/png": "[encoded data removed]",
            "text/plain": [
              "<Figure size 864x576 with 1 Axes>"
            ]
          },
          "metadata": {
            "needs_background": "light"
          },
          "output_type": "display_data"
        }
      ],
      "source": [
        "\n",
        "evaluation(model_2)\n",
        "\n",
        "# On a identifier 92% des qui ne seron pas embaucher ok\n",
        "# On a simplement defini les 30% des cas embauché pas terrible!!\n",
        "# On a idetifier\n",
        "# \n",
        "#  Dans ce cas il est tres util d'utiliser des learning curve pour comprendre \n",
        "# si notre modèle est en over ou endrt feetieng! il utilise la \n",
        "# cross validation pour entrainer et evaluer notre model sur plusieur splite\n",
        "# de notre dataset\n",
        "\n",
        "# en prenand le score f1 pour comprendre si notre modèle arrive a la fois\n",
        "# d'idetifier les ca + et -"
      ]
    },
    {
      "cell_type": "code",
      "execution_count": 48,
      "metadata": {},
      "outputs": [
        {
          "data": {
            "text/plain": [
              "<AxesSubplot: >"
            ]
          },
          "execution_count": 48,
          "metadata": {},
          "output_type": "execute_result"
        },
        {
          "data": {
            "image/png": "[encoded data removed]",
            "text/plain": [
              "<Figure size 864x576 with 1 Axes>"
            ]
          },
          "metadata": {
            "needs_background": "light"
          },
          "output_type": "display_data"
        }
      ],
      "source": [
        "pd.DataFrame(model_1.feature_importances_, index=X_test.columns).plot.bar(figsize=(12, 8))"
      ]
    },
    {
      "cell_type": "markdown",
      "metadata": {},
      "source": [
        "On voie de de suite que  notre modèle est en over feeting, ce ce dernier a \n",
        "un score de 100% dans la base de données de train par contre il est incapable de généralise \n",
        "sur des nouveau cas! score 45% dans le testset a partie de 6500 iteration et \n",
        "n'arrive plus à s'améliorer, à partir de là on peut essayer un autre classifier (svm..)\n",
        "ou bien modifer notre dataset (fornir plus de données d'une manière intelligencte, ) \n",
        "on test des idées/hypothèses au au fure et à meseur pour améliorer la performannce du \n",
        "modèle en utulisant du featurs ingéneuring pour lutter contre cet over feeting\n",
        "\n",
        "\n",
        "fillna ne marche pas fu tous !! même resultat\n",
        "\n",
        "A present on va explorer un autre type d'idée qui peut nous permetre de luter contre \n",
        "l'over feeting est cette idée est la selection de variables \n",
        "\n",
        "à aprtir de l'entrainement de notre modèle on va utiliser l'ttribut featurn \n",
        "importance_  qui nous dit quelle sont les variables les plus importante dans \n",
        "la découpe des arbre de decision e puis ce tableau on va l'ingecter dans un datafram\n",
        "pandas pour la quelle chaque valeur on auras la colone acosier, et on ce rend compte que\n",
        "pour notre modèle ce sont les feature (age, salaire, note, et un peut d'experiance) \n",
        "qui l'intersse! Très logique NON !\n",
        "\n",
        "c'est pas si surprenant car quand on a fait l'analyse target/variable on avaus vue\n",
        "clarement que ces features (age, salaire, note, et un peut d'experiance) été clairement\n",
        "en significatif du différence entre les ca (embauche=1 et embauche=0) et en \n",
        "obsèrve icu que la feature note exploqe completemnt le plafond, le salaire egalement et\n",
        "ensuite en à l'age et l'experiance et le reste c'est intermédière. Donc à partir de \n",
        "ce graphiqye on peut faire deux choses : \n",
        "\n",
        "1) définir seuil au decu du quel les variable ne sont pas selectionnées ex : 0.05\n",
        "2) determiner des featurs qui non pas d'importance pour notre modèle!\n",
        "3) utilisation d'un modèle regulariser ou un modèle qui lute conte l'over feting, \n",
        "le tres bonne exemble c'est la readom forest. Ensuite nous allons utiliser le selector \n",
        "`select best key` qui utiliser une set statistique pour faire ca selection\n",
        "(exemlme texte ``anova`) + une expention polynomial pour cree plen de variable, \n",
        "suivient d'un selectKeyBest ==> petite amélioration du recall! mausvais!\n",
        "4) Grid search cv pour trouver les bon résultat et su tous ca ne marche pas \n",
        "on va utiliser d'autre classifière\n",
        "\n",
        "A ce stade on a tester nos differentes idées du preprossesing"
      ]
    },
    {
      "cell_type": "code",
      "execution_count": null,
      "metadata": {
        "colab": {
          "base_uri": "https://localhost:8080/",
          "height": 754
        },
        "id": "VdNHtoRSvJza",
        "outputId": "33960ced-edb0-4109-8e26-5fc9293f7b53"
      },
      "outputs": [],
      "source": [
        "pd.DataFrame(model_1.feature_importances_, index=X_train.columns).plot.bar(figsize=(12, 8))"
      ]
    }
  ],
  "metadata": {
    "colab": {
      "name": "Untitled5-Copy5.ipynb",
      "provenance": []
    },
    "kernelspec": {
      "display_name": "Python 3.10.4 ('env_ML')",
      "language": "python",
      "name": "python3"
    },
    "language_info": {
      "codemirror_mode": {
        "name": "ipython",
        "version": 3
      },
      "file_extension": ".py",
      "mimetype": "text/x-python",
      "name": "python",
      "nbconvert_exporter": "python",
      "pygments_lexer": "ipython3",
      "version": "3.10.4"
    },
    "vscode": {
      "interpreter": {
        "hash": "3aeec228df1f54caf4e0351da5a2d0a118f716cc91cd17ac0ce0027b95db8302"
      }
    }
  },
  "nbformat": 4,
  "nbformat_minor": 0
}
